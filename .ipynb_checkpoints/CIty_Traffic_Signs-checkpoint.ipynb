{
 "cells": [
  {
   "cell_type": "code",
   "execution_count": null,
   "id": "fc3ff5a4-5083-49dd-9e3c-0e515b8bf799",
   "metadata": {},
   "outputs": [],
   "source": [
    "cdece"
   ]
  },
  {
   "cell_type": "code",
   "execution_count": null,
   "id": "5f9f0235-a602-44c5-bac8-14ce6e47eb41",
   "metadata": {},
   "outputs": [],
   "source": []
  },
  {
   "cell_type": "code",
   "execution_count": null,
   "id": "05579f0f-e632-43df-8f55-f99c43c5be45",
   "metadata": {},
   "outputs": [],
   "source": []
  }
 ],
 "metadata": {
  "kernelspec": {
   "display_name": "Python 3 (ipykernel)",
   "language": "python",
   "name": "python3"
  },
  "language_info": {
   "codemirror_mode": {
    "name": "ipython",
    "version": 3
   },
   "file_extension": ".py",
   "mimetype": "text/x-python",
   "name": "python",
   "nbconvert_exporter": "python",
   "pygments_lexer": "ipython3",
   "version": "3.11.5"
  }
 },
 "nbformat": 4,
 "nbformat_minor": 5
}
